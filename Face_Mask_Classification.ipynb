{
 "cells": [
  {
   "cell_type": "code",
   "execution_count": 1,
   "metadata": {},
   "outputs": [
    {
     "name": "stderr",
     "output_type": "stream",
     "text": [
      "Using TensorFlow backend.\n"
     ]
    }
   ],
   "source": [
    "from keras.preprocessing.image import ImageDataGenerator\n",
    "from keras.models import Sequential\n",
    "from keras.layers import Conv2D, MaxPooling2D\n",
    "from keras.layers import Activation, Dropout, Flatten, Dense\n",
    "from keras.optimizers import SGD\n",
    "from keras import backend as K\n",
    "import tensorflow as tf\n",
    "from matplotlib import pyplot as plt\n",
    "import numpy as np\n",
    "from keras.models import load_model"
   ]
  },
  {
   "cell_type": "code",
   "execution_count": 58,
   "metadata": {},
   "outputs": [],
   "source": [
    "def define_model():\n",
    "    model = Sequential()\n",
    "    model.add(Conv2D(32, (3, 3), activation='relu', kernel_initializer='he_uniform', padding='same', input_shape=(150, 150, 3)))\n",
    "    model.add(Activation('relu'))\n",
    "    model.add(MaxPooling2D(pool_size=(2, 2)))\n",
    "\n",
    "    model.add(Conv2D(32, (3, 3)))\n",
    "    model.add(Activation('relu'))\n",
    "    model.add(MaxPooling2D(pool_size=(2, 2)))\n",
    "\n",
    "    model.add(Conv2D(64, (3, 3)))\n",
    "    model.add(Activation('relu'))\n",
    "    model.add(MaxPooling2D(pool_size=(2, 2)))\n",
    "\n",
    "    model.add(Flatten())\n",
    "    model.add(Dense(64))\n",
    "    model.add(Activation('relu'))\n",
    "    model.add(Dropout(0.5))\n",
    "    model.add(Dense(1))\n",
    "    model.add(Activation('sigmoid'))\n",
    "    \n",
    "    opt = SGD(lr=0.01, momentum=0.9)\n",
    "    model.compile(optimizer='adam', loss='binary_crossentropy', metrics=['accuracy'])\n",
    "    return model"
   ]
  },
  {
   "cell_type": "code",
   "execution_count": 59,
   "metadata": {},
   "outputs": [
    {
     "name": "stdout",
     "output_type": "stream",
     "text": [
      "Found 372 images belonging to 2 classes.\n",
      "Found 128 images belonging to 2 classes.\n"
     ]
    }
   ],
   "source": [
    "train_dir = 'dataset/train/'\n",
    "val_dir = 'dataset/val/'\n",
    "train_datagen = ImageDataGenerator(rescale=1.0/ 255,\n",
    "                        rotation_range=10,\n",
    "                        width_shift_range=0.1,\n",
    "                        height_shift_range=0.1,\n",
    "                        zoom_range=.1,\n",
    "                        horizontal_flip=False)\n",
    "val_datagen = ImageDataGenerator(rescale=1.0/ 255)\n",
    "\n",
    "train_set = train_datagen.flow_from_directory(\n",
    "    train_dir,\n",
    "    target_size=(150, 150),\n",
    "    batch_size=32,\n",
    "    class_mode='binary')\n",
    "\n",
    "val_set = val_datagen.flow_from_directory(\n",
    "    val_dir,\n",
    "    target_size=(150, 150),\n",
    "    batch_size = 32,\n",
    "    class_mode = 'binary')"
   ]
  },
  {
   "cell_type": "code",
   "execution_count": 60,
   "metadata": {
    "scrolled": true
   },
   "outputs": [
    {
     "name": "stdout",
     "output_type": "stream",
     "text": [
      "Epoch 1/20\n",
      "12/12 [==============================] - 5s 418ms/step - loss: 0.8159 - accuracy: 0.5753 - val_loss: 0.7508 - val_accuracy: 0.6172\n",
      "Epoch 2/20\n",
      "12/12 [==============================] - 5s 393ms/step - loss: 0.6219 - accuracy: 0.6694 - val_loss: 0.6160 - val_accuracy: 0.6875\n",
      "Epoch 3/20\n",
      "12/12 [==============================] - 5s 393ms/step - loss: 0.5764 - accuracy: 0.7231 - val_loss: 0.6483 - val_accuracy: 0.7031\n",
      "Epoch 4/20\n",
      "12/12 [==============================] - 5s 393ms/step - loss: 0.5805 - accuracy: 0.7204 - val_loss: 0.6368 - val_accuracy: 0.7422\n",
      "Epoch 5/20\n",
      "12/12 [==============================] - 5s 399ms/step - loss: 0.5107 - accuracy: 0.7715 - val_loss: 0.3257 - val_accuracy: 0.7578\n",
      "Epoch 6/20\n",
      "12/12 [==============================] - 5s 393ms/step - loss: 0.5361 - accuracy: 0.7608 - val_loss: 0.4662 - val_accuracy: 0.7734\n",
      "Epoch 7/20\n",
      "12/12 [==============================] - 5s 394ms/step - loss: 0.5203 - accuracy: 0.7554 - val_loss: 0.4337 - val_accuracy: 0.7656\n",
      "Epoch 8/20\n",
      "12/12 [==============================] - 5s 401ms/step - loss: 0.5367 - accuracy: 0.7392 - val_loss: 0.5402 - val_accuracy: 0.7656\n",
      "Epoch 9/20\n",
      "12/12 [==============================] - 5s 396ms/step - loss: 0.4826 - accuracy: 0.7903 - val_loss: 0.4514 - val_accuracy: 0.7891\n",
      "Epoch 10/20\n",
      "12/12 [==============================] - 5s 396ms/step - loss: 0.4992 - accuracy: 0.7769 - val_loss: 0.5390 - val_accuracy: 0.7891\n",
      "Epoch 11/20\n",
      "12/12 [==============================] - 5s 394ms/step - loss: 0.4879 - accuracy: 0.7823 - val_loss: 0.4873 - val_accuracy: 0.7578\n",
      "Epoch 12/20\n",
      "12/12 [==============================] - 5s 400ms/step - loss: 0.4452 - accuracy: 0.7957 - val_loss: 0.4087 - val_accuracy: 0.7266\n",
      "Epoch 13/20\n",
      "12/12 [==============================] - 5s 400ms/step - loss: 0.5152 - accuracy: 0.7769 - val_loss: 0.5282 - val_accuracy: 0.7578\n",
      "Epoch 14/20\n",
      "12/12 [==============================] - 5s 394ms/step - loss: 0.4404 - accuracy: 0.8118 - val_loss: 0.3969 - val_accuracy: 0.7344\n",
      "Epoch 15/20\n",
      "12/12 [==============================] - 5s 394ms/step - loss: 0.4367 - accuracy: 0.8011 - val_loss: 0.5906 - val_accuracy: 0.7734\n",
      "Epoch 16/20\n",
      "12/12 [==============================] - 5s 401ms/step - loss: 0.4351 - accuracy: 0.8172 - val_loss: 0.5609 - val_accuracy: 0.7578\n",
      "Epoch 17/20\n",
      "12/12 [==============================] - 5s 402ms/step - loss: 0.4111 - accuracy: 0.8199 - val_loss: 0.6914 - val_accuracy: 0.7656\n",
      "Epoch 18/20\n",
      "12/12 [==============================] - 5s 400ms/step - loss: 0.4354 - accuracy: 0.8118 - val_loss: 0.4693 - val_accuracy: 0.7891\n",
      "Epoch 19/20\n",
      "12/12 [==============================] - 5s 396ms/step - loss: 0.4093 - accuracy: 0.8172 - val_loss: 0.5162 - val_accuracy: 0.7422\n",
      "Epoch 20/20\n",
      "12/12 [==============================] - 5s 400ms/step - loss: 0.3681 - accuracy: 0.8414 - val_loss: 0.4703 - val_accuracy: 0.7578\n"
     ]
    }
   ],
   "source": [
    "model = define_model()\n",
    "epoch_steps = len(train_set)\n",
    "val_steps = len(val_set)\n",
    "model.fit_generator(\n",
    "    train_set, \n",
    "    steps_per_epoch = epoch_steps,\n",
    "    epochs = 20,\n",
    "    validation_data = val_set,\n",
    "    validation_steps = val_steps)\n",
    "\n",
    "\n",
    "model.save('final_model.h5')"
   ]
  },
  {
   "cell_type": "code",
   "execution_count": 16,
   "metadata": {},
   "outputs": [],
   "source": [
    "#Check performance on test set"
   ]
  },
  {
   "cell_type": "code",
   "execution_count": 61,
   "metadata": {},
   "outputs": [
    {
     "name": "stdout",
     "output_type": "stream",
     "text": [
      "Found 200 images belonging to 2 classes.\n",
      "25/25 [==============================] - 1s 22ms/step\n",
      "Test loss: 0.3049163520336151\n",
      "Test accuracy: 0.7749999761581421\n"
     ]
    }
   ],
   "source": [
    "test_dir = 'dataset/test/'\n",
    "test_datagen = ImageDataGenerator(rescale=1.0/ 255)\n",
    "test_set = test_datagen.flow_from_directory(\n",
    "    test_dir,\n",
    "    target_size=(150, 150),\n",
    "    batch_size = 8,\n",
    "    class_mode = 'binary')\n",
    "\n",
    "model_test = load_model('final_model.h5')\n",
    "\n",
    "score = model_test.evaluate(test_set)\n",
    "print('Test loss:', score[0])\n",
    "print('Test accuracy:', score[1])"
   ]
  },
  {
   "cell_type": "code",
   "execution_count": null,
   "metadata": {},
   "outputs": [],
   "source": []
  }
 ],
 "metadata": {
  "kernelspec": {
   "display_name": "Python 3",
   "language": "python",
   "name": "python3"
  },
  "language_info": {
   "codemirror_mode": {
    "name": "ipython",
    "version": 3
   },
   "file_extension": ".py",
   "mimetype": "text/x-python",
   "name": "python",
   "nbconvert_exporter": "python",
   "pygments_lexer": "ipython3",
   "version": "3.6.9"
  }
 },
 "nbformat": 4,
 "nbformat_minor": 4
}
